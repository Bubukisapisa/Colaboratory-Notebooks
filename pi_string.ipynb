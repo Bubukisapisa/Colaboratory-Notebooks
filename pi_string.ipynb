{
  "nbformat": 4,
  "nbformat_minor": 0,
  "metadata": {
    "colab": {
      "provenance": [],
      "authorship_tag": "ABX9TyMzJr0caSr09+i+OGQ47dTg",
      "include_colab_link": true
    },
    "kernelspec": {
      "name": "python3",
      "display_name": "Python 3"
    },
    "language_info": {
      "name": "python"
    }
  },
  "cells": [
    {
      "cell_type": "markdown",
      "metadata": {
        "id": "view-in-github",
        "colab_type": "text"
      },
      "source": [
        "<a href=\"https://colab.research.google.com/github/Bubukisapisa/Colaboratory-Notebooks/blob/main/pi_string.ipynb\" target=\"_parent\"><img src=\"https://colab.research.google.com/assets/colab-badge.svg\" alt=\"Open In Colab\"/></a>"
      ]
    },
    {
      "cell_type": "code",
      "source": [
        "import requests"
      ],
      "metadata": {
        "id": "zlWMzHR_QX5N"
      },
      "execution_count": 4,
      "outputs": []
    },
    {
      "cell_type": "code",
      "source": [
        "file = '/content/pi_million_digits.txt'"
      ],
      "metadata": {
        "id": "ZiVGq-uURp2u"
      },
      "execution_count": 13,
      "outputs": []
    },
    {
      "cell_type": "code",
      "execution_count": 5,
      "metadata": {
        "id": "akU-93grOiW0"
      },
      "outputs": [],
      "source": [
        "path = 'https://github.com/ehmatthes/pcc_2e/blob/master/chapter_10/pi_million_digits.txt'"
      ]
    },
    {
      "cell_type": "code",
      "source": [
        "response = requests.get(path).text"
      ],
      "metadata": {
        "id": "YCjdHT6-QeOf"
      },
      "execution_count": 9,
      "outputs": []
    },
    {
      "cell_type": "code",
      "source": [
        "with open(file) as pi_string:\n",
        "  lines = pi_string.readlines()"
      ],
      "metadata": {
        "id": "DIrk4KY-PRpD"
      },
      "execution_count": 14,
      "outputs": []
    },
    {
      "cell_type": "code",
      "source": [
        "pi_value = ''"
      ],
      "metadata": {
        "id": "Vyc-ZHSBP4Xk"
      },
      "execution_count": 15,
      "outputs": []
    },
    {
      "cell_type": "code",
      "source": [
        "for line in lines:\n",
        "  pi_value += line"
      ],
      "metadata": {
        "id": "WIz_L3Z3PtDB"
      },
      "execution_count": 16,
      "outputs": []
    },
    {
      "cell_type": "code",
      "source": [
        "'050494' in pi_value"
      ],
      "metadata": {
        "colab": {
          "base_uri": "https://localhost:8080/"
        },
        "id": "StJLTHgYQEWR",
        "outputId": "6ad294c5-00bf-4115-d891-56374367962b"
      },
      "execution_count": 21,
      "outputs": [
        {
          "output_type": "execute_result",
          "data": {
            "text/plain": [
              "True"
            ]
          },
          "metadata": {},
          "execution_count": 21
        }
      ]
    }
  ]
}